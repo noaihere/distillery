{
  "nbformat": 4,
  "nbformat_minor": 0,
  "metadata": {
    "colab": {
      "name": "short_python.ipynb",
      "provenance": [],
      "collapsed_sections": [],
      "authorship_tag": "ABX9TyO+0a3+c6PqK7MuNSSCwRL+",
      "include_colab_link": true
    },
    "kernelspec": {
      "name": "python3",
      "display_name": "Python 3"
    }
  },
  "cells": [
    {
      "cell_type": "markdown",
      "metadata": {
        "id": "view-in-github",
        "colab_type": "text"
      },
      "source": [
        "<a href=\"https://colab.research.google.com/github/noaihere/distillery/blob/master/short_python.ipynb\" target=\"_parent\"><img src=\"https://colab.research.google.com/assets/colab-badge.svg\" alt=\"Open In Colab\"/></a>"
      ]
    },
    {
      "cell_type": "code",
      "metadata": {
        "id": "FAGCzBPh0epJ",
        "colab_type": "code",
        "colab": {}
      },
      "source": [
        "import pandas as pd\n",
        "import numpy as np\n",
        "import re\n",
        "# test"
      ],
      "execution_count": 0,
      "outputs": []
    },
    {
      "cell_type": "markdown",
      "metadata": {
        "id": "yg_VPvUL2Cxz",
        "colab_type": "text"
      },
      "source": [
        "**Dataframe creation**"
      ]
    },
    {
      "cell_type": "code",
      "metadata": {
        "id": "l3NP8n1e0sng",
        "colab_type": "code",
        "outputId": "c3dd8d56-543f-46a1-b1a8-18e451399410",
        "colab": {
          "base_uri": "https://localhost:8080/",
          "height": 80
        }
      },
      "source": [
        "df = pd.DataFrame(columns=['a','b','c','1-a1','1-b1'], data = [[10, 20, 32,44,55]])\n",
        "df"
      ],
      "execution_count": 0,
      "outputs": [
        {
          "output_type": "execute_result",
          "data": {
            "text/html": [
              "<div>\n",
              "<style scoped>\n",
              "    .dataframe tbody tr th:only-of-type {\n",
              "        vertical-align: middle;\n",
              "    }\n",
              "\n",
              "    .dataframe tbody tr th {\n",
              "        vertical-align: top;\n",
              "    }\n",
              "\n",
              "    .dataframe thead th {\n",
              "        text-align: right;\n",
              "    }\n",
              "</style>\n",
              "<table border=\"1\" class=\"dataframe\">\n",
              "  <thead>\n",
              "    <tr style=\"text-align: right;\">\n",
              "      <th></th>\n",
              "      <th>a</th>\n",
              "      <th>b</th>\n",
              "      <th>c</th>\n",
              "      <th>1-a1</th>\n",
              "      <th>1-b1</th>\n",
              "    </tr>\n",
              "  </thead>\n",
              "  <tbody>\n",
              "    <tr>\n",
              "      <th>0</th>\n",
              "      <td>10</td>\n",
              "      <td>20</td>\n",
              "      <td>32</td>\n",
              "      <td>44</td>\n",
              "      <td>55</td>\n",
              "    </tr>\n",
              "  </tbody>\n",
              "</table>\n",
              "</div>"
            ],
            "text/plain": [
              "    a   b   c  1-a1  1-b1\n",
              "0  10  20  32    44    55"
            ]
          },
          "metadata": {
            "tags": []
          },
          "execution_count": 6
        }
      ]
    },
    {
      "cell_type": "markdown",
      "metadata": {
        "id": "fCU1USm_2Vi9",
        "colab_type": "text"
      },
      "source": [
        "**Column names**"
      ]
    },
    {
      "cell_type": "markdown",
      "metadata": {
        "id": "rKQ_5JRz2yDs",
        "colab_type": "text"
      },
      "source": [
        "Rename column name by name"
      ]
    },
    {
      "cell_type": "code",
      "metadata": {
        "id": "qJEkX-6_2z3P",
        "colab_type": "code",
        "outputId": "e9655831-46e1-40a2-d216-baf4741b2976",
        "colab": {
          "base_uri": "https://localhost:8080/",
          "height": 80
        }
      },
      "source": [
        "df.rename(columns = {\"a\" : \"apple\"})"
      ],
      "execution_count": 0,
      "outputs": [
        {
          "output_type": "execute_result",
          "data": {
            "text/html": [
              "<div>\n",
              "<style scoped>\n",
              "    .dataframe tbody tr th:only-of-type {\n",
              "        vertical-align: middle;\n",
              "    }\n",
              "\n",
              "    .dataframe tbody tr th {\n",
              "        vertical-align: top;\n",
              "    }\n",
              "\n",
              "    .dataframe thead th {\n",
              "        text-align: right;\n",
              "    }\n",
              "</style>\n",
              "<table border=\"1\" class=\"dataframe\">\n",
              "  <thead>\n",
              "    <tr style=\"text-align: right;\">\n",
              "      <th></th>\n",
              "      <th>apple</th>\n",
              "      <th>b</th>\n",
              "      <th>c</th>\n",
              "      <th>1-a1</th>\n",
              "      <th>1-b1</th>\n",
              "    </tr>\n",
              "  </thead>\n",
              "  <tbody>\n",
              "    <tr>\n",
              "      <th>0</th>\n",
              "      <td>10</td>\n",
              "      <td>20</td>\n",
              "      <td>32</td>\n",
              "      <td>44</td>\n",
              "      <td>55</td>\n",
              "    </tr>\n",
              "  </tbody>\n",
              "</table>\n",
              "</div>"
            ],
            "text/plain": [
              "   apple   b   c  1-a1  1-b1\n",
              "0     10  20  32    44    55"
            ]
          },
          "metadata": {
            "tags": []
          },
          "execution_count": 8
        }
      ]
    },
    {
      "cell_type": "markdown",
      "metadata": {
        "id": "ou3PCe3U3C3U",
        "colab_type": "text"
      },
      "source": [
        "Rename column name by position/index\n",
        "\n"
      ]
    },
    {
      "cell_type": "code",
      "metadata": {
        "id": "pvIebpBQ28JJ",
        "colab_type": "code",
        "outputId": "0ff31c2e-6966-48df-9702-e33f67b74b52",
        "colab": {
          "base_uri": "https://localhost:8080/",
          "height": 80
        }
      },
      "source": [
        "df.columns.values[0] = \"apple\"\n",
        "df"
      ],
      "execution_count": 0,
      "outputs": [
        {
          "output_type": "execute_result",
          "data": {
            "text/html": [
              "<div>\n",
              "<style scoped>\n",
              "    .dataframe tbody tr th:only-of-type {\n",
              "        vertical-align: middle;\n",
              "    }\n",
              "\n",
              "    .dataframe tbody tr th {\n",
              "        vertical-align: top;\n",
              "    }\n",
              "\n",
              "    .dataframe thead th {\n",
              "        text-align: right;\n",
              "    }\n",
              "</style>\n",
              "<table border=\"1\" class=\"dataframe\">\n",
              "  <thead>\n",
              "    <tr style=\"text-align: right;\">\n",
              "      <th></th>\n",
              "      <th>apple</th>\n",
              "      <th>b</th>\n",
              "      <th>c</th>\n",
              "      <th>1-a1</th>\n",
              "      <th>1-b1</th>\n",
              "    </tr>\n",
              "  </thead>\n",
              "  <tbody>\n",
              "    <tr>\n",
              "      <th>0</th>\n",
              "      <td>10</td>\n",
              "      <td>20</td>\n",
              "      <td>32</td>\n",
              "      <td>44</td>\n",
              "      <td>55</td>\n",
              "    </tr>\n",
              "  </tbody>\n",
              "</table>\n",
              "</div>"
            ],
            "text/plain": [
              "   apple   b   c  1-a1  1-b1\n",
              "0     10  20  32    44    55"
            ]
          },
          "metadata": {
            "tags": []
          },
          "execution_count": 9
        }
      ]
    },
    {
      "cell_type": "markdown",
      "metadata": {
        "id": "dF-Lf-D6g2YF",
        "colab_type": "text"
      },
      "source": [
        "Rename index name by name\n",
        "\n"
      ]
    },
    {
      "cell_type": "code",
      "metadata": {
        "id": "kht8HY4Rg3ua",
        "colab_type": "code",
        "outputId": "f9c47e3d-ed4d-4781-d23d-d5c297389e34",
        "colab": {
          "base_uri": "https://localhost:8080/",
          "height": 131
        }
      },
      "source": [
        "df = pd.DataFrame(columns=['a','b','c'], data = [[10, 20, 32]], index = ['today'])\n",
        "print(df, \"\\n\")\n",
        "df.rename(index = {'today':'0'}, inplace=True)\n",
        "df"
      ],
      "execution_count": 0,
      "outputs": [
        {
          "output_type": "stream",
          "text": [
            "        a   b   c\n",
            "today  10  20  32 \n",
            "\n"
          ],
          "name": "stdout"
        },
        {
          "output_type": "execute_result",
          "data": {
            "text/html": [
              "<div>\n",
              "<style scoped>\n",
              "    .dataframe tbody tr th:only-of-type {\n",
              "        vertical-align: middle;\n",
              "    }\n",
              "\n",
              "    .dataframe tbody tr th {\n",
              "        vertical-align: top;\n",
              "    }\n",
              "\n",
              "    .dataframe thead th {\n",
              "        text-align: right;\n",
              "    }\n",
              "</style>\n",
              "<table border=\"1\" class=\"dataframe\">\n",
              "  <thead>\n",
              "    <tr style=\"text-align: right;\">\n",
              "      <th></th>\n",
              "      <th>a</th>\n",
              "      <th>b</th>\n",
              "      <th>c</th>\n",
              "    </tr>\n",
              "  </thead>\n",
              "  <tbody>\n",
              "    <tr>\n",
              "      <th>0</th>\n",
              "      <td>10</td>\n",
              "      <td>20</td>\n",
              "      <td>32</td>\n",
              "    </tr>\n",
              "  </tbody>\n",
              "</table>\n",
              "</div>"
            ],
            "text/plain": [
              "    a   b   c\n",
              "0  10  20  32"
            ]
          },
          "metadata": {
            "tags": []
          },
          "execution_count": 6
        }
      ]
    },
    {
      "cell_type": "markdown",
      "metadata": {
        "id": "3e-Gabbl5-1j",
        "colab_type": "text"
      },
      "source": [
        "Rename column name by using lambda function"
      ]
    },
    {
      "cell_type": "code",
      "metadata": {
        "id": "G0hEr_U16EO7",
        "colab_type": "code",
        "outputId": "74254c3b-ab31-4f43-d85a-07933137babd",
        "colab": {
          "base_uri": "https://localhost:8080/",
          "height": 114
        }
      },
      "source": [
        "df = pd.DataFrame(columns=['a','b','c','1-a1','1-b1'], data = [[10, 20, 32,44,55]])\n",
        "df.rename(columns = lambda x : x.replace(\"-\", \"(\"), inplace=True)\n",
        "print(df)\n",
        "df.rename(columns = lambda x: re.sub(\"\\d\\(\\w\\d\", \"special\",x), inplace=True)\n",
        "df"
      ],
      "execution_count": 0,
      "outputs": [
        {
          "output_type": "stream",
          "text": [
            "    a   b   c  1(a1  1(b1\n",
            "0  10  20  32    44    55\n"
          ],
          "name": "stdout"
        },
        {
          "output_type": "execute_result",
          "data": {
            "text/html": [
              "<div>\n",
              "<style scoped>\n",
              "    .dataframe tbody tr th:only-of-type {\n",
              "        vertical-align: middle;\n",
              "    }\n",
              "\n",
              "    .dataframe tbody tr th {\n",
              "        vertical-align: top;\n",
              "    }\n",
              "\n",
              "    .dataframe thead th {\n",
              "        text-align: right;\n",
              "    }\n",
              "</style>\n",
              "<table border=\"1\" class=\"dataframe\">\n",
              "  <thead>\n",
              "    <tr style=\"text-align: right;\">\n",
              "      <th></th>\n",
              "      <th>a</th>\n",
              "      <th>b</th>\n",
              "      <th>c</th>\n",
              "      <th>special</th>\n",
              "      <th>special</th>\n",
              "    </tr>\n",
              "  </thead>\n",
              "  <tbody>\n",
              "    <tr>\n",
              "      <th>0</th>\n",
              "      <td>10</td>\n",
              "      <td>20</td>\n",
              "      <td>32</td>\n",
              "      <td>44</td>\n",
              "      <td>55</td>\n",
              "    </tr>\n",
              "  </tbody>\n",
              "</table>\n",
              "</div>"
            ],
            "text/plain": [
              "    a   b   c  special  special\n",
              "0  10  20  32       44       55"
            ]
          },
          "metadata": {
            "tags": []
          },
          "execution_count": 39
        }
      ]
    },
    {
      "cell_type": "markdown",
      "metadata": {
        "id": "4sgK9K0q-P1I",
        "colab_type": "text"
      },
      "source": [
        "Re.sub use string that matches () in new string as \\\\1, \\\\2\n",
        "\n"
      ]
    },
    {
      "cell_type": "code",
      "metadata": {
        "id": "KRiUxIgX-Z7Z",
        "colab_type": "code",
        "outputId": "4e536784-17c1-4b8d-bf0a-eaaa9c753f67",
        "colab": {
          "base_uri": "https://localhost:8080/",
          "height": 80
        }
      },
      "source": [
        "df = pd.DataFrame(columns=['a','b','c','1-a1','1-b1'], data = [[10, 20, 32,44,55]])\n",
        "df.rename(columns = lambda x: re.sub(\"\\d-(\\w\\d)\",\"special is \\\\1\",x), inplace=True)\n",
        "df"
      ],
      "execution_count": 0,
      "outputs": [
        {
          "output_type": "execute_result",
          "data": {
            "text/html": [
              "<div>\n",
              "<style scoped>\n",
              "    .dataframe tbody tr th:only-of-type {\n",
              "        vertical-align: middle;\n",
              "    }\n",
              "\n",
              "    .dataframe tbody tr th {\n",
              "        vertical-align: top;\n",
              "    }\n",
              "\n",
              "    .dataframe thead th {\n",
              "        text-align: right;\n",
              "    }\n",
              "</style>\n",
              "<table border=\"1\" class=\"dataframe\">\n",
              "  <thead>\n",
              "    <tr style=\"text-align: right;\">\n",
              "      <th></th>\n",
              "      <th>a</th>\n",
              "      <th>b</th>\n",
              "      <th>c</th>\n",
              "      <th>special is a1</th>\n",
              "      <th>special is b1</th>\n",
              "    </tr>\n",
              "  </thead>\n",
              "  <tbody>\n",
              "    <tr>\n",
              "      <th>0</th>\n",
              "      <td>10</td>\n",
              "      <td>20</td>\n",
              "      <td>32</td>\n",
              "      <td>44</td>\n",
              "      <td>55</td>\n",
              "    </tr>\n",
              "  </tbody>\n",
              "</table>\n",
              "</div>"
            ],
            "text/plain": [
              "    a   b   c  special is a1  special is b1\n",
              "0  10  20  32             44             55"
            ]
          },
          "metadata": {
            "tags": []
          },
          "execution_count": 41
        }
      ]
    },
    {
      "cell_type": "markdown",
      "metadata": {
        "id": "I9d8SSCT5ejn",
        "colab_type": "text"
      },
      "source": [
        "Rename nan column names by fillna"
      ]
    },
    {
      "cell_type": "code",
      "metadata": {
        "id": "gRFdLLaz3k2X",
        "colab_type": "code",
        "outputId": "6b4f73a3-6b6d-4066-d7f8-5dc35e144a51",
        "colab": {
          "base_uri": "https://localhost:8080/",
          "height": 165
        }
      },
      "source": [
        "df = pd.DataFrame(columns=['a', np.nan ,'c','1-a1','1-b1'], data = [[10, 20, 32,44,55]])\n",
        "print(df,\"\\n\")\n",
        "print(df.columns.isnull(),\"\\n\")\n",
        "\n",
        "df.columns = df.columns.fillna(\"None\")\n",
        "df\n"
      ],
      "execution_count": 0,
      "outputs": [
        {
          "output_type": "stream",
          "text": [
            "    a  NaN   c  1-a1  1-b1\n",
            "0  10   20  32    44    55 \n",
            "\n",
            "[False  True False False False] \n",
            "\n"
          ],
          "name": "stdout"
        },
        {
          "output_type": "execute_result",
          "data": {
            "text/html": [
              "<div>\n",
              "<style scoped>\n",
              "    .dataframe tbody tr th:only-of-type {\n",
              "        vertical-align: middle;\n",
              "    }\n",
              "\n",
              "    .dataframe tbody tr th {\n",
              "        vertical-align: top;\n",
              "    }\n",
              "\n",
              "    .dataframe thead th {\n",
              "        text-align: right;\n",
              "    }\n",
              "</style>\n",
              "<table border=\"1\" class=\"dataframe\">\n",
              "  <thead>\n",
              "    <tr style=\"text-align: right;\">\n",
              "      <th></th>\n",
              "      <th>a</th>\n",
              "      <th>None</th>\n",
              "      <th>c</th>\n",
              "      <th>1-a1</th>\n",
              "      <th>1-b1</th>\n",
              "    </tr>\n",
              "  </thead>\n",
              "  <tbody>\n",
              "    <tr>\n",
              "      <th>0</th>\n",
              "      <td>10</td>\n",
              "      <td>20</td>\n",
              "      <td>32</td>\n",
              "      <td>44</td>\n",
              "      <td>55</td>\n",
              "    </tr>\n",
              "  </tbody>\n",
              "</table>\n",
              "</div>"
            ],
            "text/plain": [
              "    a  None   c  1-a1  1-b1\n",
              "0  10    20  32    44    55"
            ]
          },
          "metadata": {
            "tags": []
          },
          "execution_count": 21
        }
      ]
    },
    {
      "cell_type": "markdown",
      "metadata": {
        "id": "x5oTMvrY3U71",
        "colab_type": "text"
      },
      "source": [
        "Subset dataframe by column names"
      ]
    },
    {
      "cell_type": "code",
      "metadata": {
        "id": "Bh8DZQ-g3Qfo",
        "colab_type": "code",
        "outputId": "94a3dab8-0251-4a07-d046-4fe85a5f84b3",
        "colab": {
          "base_uri": "https://localhost:8080/",
          "height": 80
        }
      },
      "source": [
        "df = df[[col for col in df.columns if re.search(('-a|-b'), col)]]\n",
        "df"
      ],
      "execution_count": 0,
      "outputs": [
        {
          "output_type": "execute_result",
          "data": {
            "text/html": [
              "<div>\n",
              "<style scoped>\n",
              "    .dataframe tbody tr th:only-of-type {\n",
              "        vertical-align: middle;\n",
              "    }\n",
              "\n",
              "    .dataframe tbody tr th {\n",
              "        vertical-align: top;\n",
              "    }\n",
              "\n",
              "    .dataframe thead th {\n",
              "        text-align: right;\n",
              "    }\n",
              "</style>\n",
              "<table border=\"1\" class=\"dataframe\">\n",
              "  <thead>\n",
              "    <tr style=\"text-align: right;\">\n",
              "      <th></th>\n",
              "      <th>1-a1</th>\n",
              "      <th>1-b1</th>\n",
              "    </tr>\n",
              "  </thead>\n",
              "  <tbody>\n",
              "    <tr>\n",
              "      <th>0</th>\n",
              "      <td>44</td>\n",
              "      <td>55</td>\n",
              "    </tr>\n",
              "  </tbody>\n",
              "</table>\n",
              "</div>"
            ],
            "text/plain": [
              "   1-a1  1-b1\n",
              "0    44    55"
            ]
          },
          "metadata": {
            "tags": []
          },
          "execution_count": 12
        }
      ]
    },
    {
      "cell_type": "markdown",
      "metadata": {
        "id": "4kREfRhh61ho",
        "colab_type": "text"
      },
      "source": [
        "Remove duplicated column names"
      ]
    },
    {
      "cell_type": "code",
      "metadata": {
        "id": "CsNBEYqb32_I",
        "colab_type": "code",
        "outputId": "d4e8c33a-dcbe-47ac-d9d3-63aef1a2953b",
        "colab": {
          "base_uri": "https://localhost:8080/",
          "height": 97
        }
      },
      "source": [
        "df = pd.DataFrame(columns=['a', 'a' ,'c','1-a1','1-b1'], data = [[10, 20, 32,44,55]])\n",
        "print(df.columns.duplicated())\n",
        "\n",
        "df = df.loc[:, ~df.columns.duplicated()]\n",
        "df"
      ],
      "execution_count": 0,
      "outputs": [
        {
          "output_type": "stream",
          "text": [
            "[False  True False False False]\n"
          ],
          "name": "stdout"
        },
        {
          "output_type": "execute_result",
          "data": {
            "text/html": [
              "<div>\n",
              "<style scoped>\n",
              "    .dataframe tbody tr th:only-of-type {\n",
              "        vertical-align: middle;\n",
              "    }\n",
              "\n",
              "    .dataframe tbody tr th {\n",
              "        vertical-align: top;\n",
              "    }\n",
              "\n",
              "    .dataframe thead th {\n",
              "        text-align: right;\n",
              "    }\n",
              "</style>\n",
              "<table border=\"1\" class=\"dataframe\">\n",
              "  <thead>\n",
              "    <tr style=\"text-align: right;\">\n",
              "      <th></th>\n",
              "      <th>a</th>\n",
              "      <th>c</th>\n",
              "      <th>1-a1</th>\n",
              "      <th>1-b1</th>\n",
              "    </tr>\n",
              "  </thead>\n",
              "  <tbody>\n",
              "    <tr>\n",
              "      <th>0</th>\n",
              "      <td>10</td>\n",
              "      <td>32</td>\n",
              "      <td>44</td>\n",
              "      <td>55</td>\n",
              "    </tr>\n",
              "  </tbody>\n",
              "</table>\n",
              "</div>"
            ],
            "text/plain": [
              "    a   c  1-a1  1-b1\n",
              "0  10  32    44    55"
            ]
          },
          "metadata": {
            "tags": []
          },
          "execution_count": 27
        }
      ]
    },
    {
      "cell_type": "markdown",
      "metadata": {
        "id": "_WKlhp5aBJI1",
        "colab_type": "text"
      },
      "source": [
        "**Subset dataframe** "
      ]
    },
    {
      "cell_type": "markdown",
      "metadata": {
        "id": "RvMzlwB2DIg_",
        "colab_type": "text"
      },
      "source": [
        "Subset by date time"
      ]
    },
    {
      "cell_type": "code",
      "metadata": {
        "id": "seWYbcOrBPAp",
        "colab_type": "code",
        "outputId": "98e48026-c476-483a-ecf6-a14eefcb92bc",
        "colab": {
          "base_uri": "https://localhost:8080/",
          "height": 68
        }
      },
      "source": [
        "df = pd.DataFrame({'datetime':['2020-03-20T14:00:00+09:00','2020-03-20T10:00:00+09:00','2020-03-20T18:00:00+09:00',\n",
        "                           '2020-03-20T20:00:00+09:00']})\n",
        "\n",
        "df['datetime'] = pd.to_datetime(df['datetime'])\n",
        "df['date'] = df['datetime'].dt.date\n",
        "df['time'] = df['datetime'].dt.time\n",
        "\n",
        "df_subset = df.loc[(df['time']>= datetime.time(hour=11, minute=00)) & (df['time'] <= datetime.time(hour=19, minute=00)), :]\n",
        "\n",
        "print(df_subset)"
      ],
      "execution_count": 0,
      "outputs": [
        {
          "output_type": "stream",
          "text": [
            "                   datetime        date      time\n",
            "0 2020-03-20 14:00:00+09:00  2020-03-20  14:00:00\n",
            "2 2020-03-20 18:00:00+09:00  2020-03-20  18:00:00\n"
          ],
          "name": "stdout"
        }
      ]
    },
    {
      "cell_type": "markdown",
      "metadata": {
        "id": "wRMSOw1HFq-G",
        "colab_type": "text"
      },
      "source": [
        "Subset using isin"
      ]
    },
    {
      "cell_type": "code",
      "metadata": {
        "id": "NAVnf9wUFuRA",
        "colab_type": "code",
        "outputId": "49eb8fd6-8576-4b18-bc4b-93031e913799",
        "colab": {
          "base_uri": "https://localhost:8080/",
          "height": 111
        }
      },
      "source": [
        "df = pd.DataFrame({'name':['a','b','c'],'value':[20,-3,-50]})\n",
        "df.loc[df['name'].isin(['a','c']),:]"
      ],
      "execution_count": 0,
      "outputs": [
        {
          "output_type": "execute_result",
          "data": {
            "text/html": [
              "<div>\n",
              "<style scoped>\n",
              "    .dataframe tbody tr th:only-of-type {\n",
              "        vertical-align: middle;\n",
              "    }\n",
              "\n",
              "    .dataframe tbody tr th {\n",
              "        vertical-align: top;\n",
              "    }\n",
              "\n",
              "    .dataframe thead th {\n",
              "        text-align: right;\n",
              "    }\n",
              "</style>\n",
              "<table border=\"1\" class=\"dataframe\">\n",
              "  <thead>\n",
              "    <tr style=\"text-align: right;\">\n",
              "      <th></th>\n",
              "      <th>name</th>\n",
              "      <th>value</th>\n",
              "    </tr>\n",
              "  </thead>\n",
              "  <tbody>\n",
              "    <tr>\n",
              "      <th>0</th>\n",
              "      <td>a</td>\n",
              "      <td>20</td>\n",
              "    </tr>\n",
              "    <tr>\n",
              "      <th>2</th>\n",
              "      <td>c</td>\n",
              "      <td>-50</td>\n",
              "    </tr>\n",
              "  </tbody>\n",
              "</table>\n",
              "</div>"
            ],
            "text/plain": [
              "  name  value\n",
              "0    a     20\n",
              "2    c    -50"
            ]
          },
          "metadata": {
            "tags": []
          },
          "execution_count": 13
        }
      ]
    },
    {
      "cell_type": "markdown",
      "metadata": {
        "id": "6GpT2a7PgRdm",
        "colab_type": "text"
      },
      "source": [
        "**Dataframe column values**"
      ]
    },
    {
      "cell_type": "markdown",
      "metadata": {
        "id": "ONgbijcGgbY0",
        "colab_type": "text"
      },
      "source": [
        "Sum 2 columns ignore nan"
      ]
    },
    {
      "cell_type": "code",
      "metadata": {
        "id": "YJG_kJvwgdkq",
        "colab_type": "code",
        "outputId": "5f591569-4236-471c-db22-b758dff15738",
        "colab": {
          "base_uri": "https://localhost:8080/",
          "height": 142
        }
      },
      "source": [
        "df = pd.DataFrame({'a':[1.2,34,35], 'b':[342,51,np.nan]})\n",
        "df['z'] = df['b'].add(df['a'], fill_value=0)\n",
        "df"
      ],
      "execution_count": 0,
      "outputs": [
        {
          "output_type": "execute_result",
          "data": {
            "text/html": [
              "<div>\n",
              "<style scoped>\n",
              "    .dataframe tbody tr th:only-of-type {\n",
              "        vertical-align: middle;\n",
              "    }\n",
              "\n",
              "    .dataframe tbody tr th {\n",
              "        vertical-align: top;\n",
              "    }\n",
              "\n",
              "    .dataframe thead th {\n",
              "        text-align: right;\n",
              "    }\n",
              "</style>\n",
              "<table border=\"1\" class=\"dataframe\">\n",
              "  <thead>\n",
              "    <tr style=\"text-align: right;\">\n",
              "      <th></th>\n",
              "      <th>a</th>\n",
              "      <th>b</th>\n",
              "      <th>z</th>\n",
              "    </tr>\n",
              "  </thead>\n",
              "  <tbody>\n",
              "    <tr>\n",
              "      <th>0</th>\n",
              "      <td>1.2</td>\n",
              "      <td>342.0</td>\n",
              "      <td>343.2</td>\n",
              "    </tr>\n",
              "    <tr>\n",
              "      <th>1</th>\n",
              "      <td>34.0</td>\n",
              "      <td>51.0</td>\n",
              "      <td>85.0</td>\n",
              "    </tr>\n",
              "    <tr>\n",
              "      <th>2</th>\n",
              "      <td>35.0</td>\n",
              "      <td>NaN</td>\n",
              "      <td>35.0</td>\n",
              "    </tr>\n",
              "  </tbody>\n",
              "</table>\n",
              "</div>"
            ],
            "text/plain": [
              "      a      b      z\n",
              "0   1.2  342.0  343.2\n",
              "1  34.0   51.0   85.0\n",
              "2  35.0    NaN   35.0"
            ]
          },
          "metadata": {
            "tags": []
          },
          "execution_count": 3
        }
      ]
    },
    {
      "cell_type": "markdown",
      "metadata": {
        "id": "0VajAEPkjIz-",
        "colab_type": "text"
      },
      "source": [
        "Sum columns using df.sum ignore nan default"
      ]
    },
    {
      "cell_type": "code",
      "metadata": {
        "id": "ovQM-Mjd6nJi",
        "colab_type": "code",
        "outputId": "e3837565-0cf5-4d2f-d617-bd7a7a2c2054",
        "colab": {
          "base_uri": "https://localhost:8080/",
          "height": 85
        }
      },
      "source": [
        "df = pd.DataFrame({'a':[1.2,34,35], 'b':[342,51,np.nan]})\n",
        "df['z'] = df['b'].add(df['a'], fill_value=0)\n",
        "df[['b','z']].sum(axis=1)"
      ],
      "execution_count": 0,
      "outputs": [
        {
          "output_type": "execute_result",
          "data": {
            "text/plain": [
              "0    685.2\n",
              "1    136.0\n",
              "2     35.0\n",
              "dtype: float64"
            ]
          },
          "metadata": {
            "tags": []
          },
          "execution_count": 11
        }
      ]
    },
    {
      "cell_type": "markdown",
      "metadata": {
        "id": "ApNSfbM0FANv",
        "colab_type": "text"
      },
      "source": [
        "Replace values in df/ specific col using df replace method"
      ]
    },
    {
      "cell_type": "code",
      "metadata": {
        "id": "0W1TQYUpFC5L",
        "colab_type": "code",
        "colab": {
          "base_uri": "https://localhost:8080/",
          "height": 221
        },
        "outputId": "985a6a35-c486-4fdc-e08d-da73655b8393"
      },
      "source": [
        "df = pd.DataFrame({'a':[1.2,34,35], 'b':[342,51,'4..3'], 'c':[1,2,3]})\n",
        "df.dtypes\n",
        "print(df)\n",
        "df2 = df.replace('\\.\\.', \".\", regex=True)\n",
        "print(df2)\n",
        "\n",
        "df[['a','b']]= df[['a','b']].replace('\\.\\.', \".\", regex=True)\n",
        "df.dtypes\n",
        "df['b'] = pd.to_numeric(df['b'])\n",
        "df.dtypes"
      ],
      "execution_count": 15,
      "outputs": [
        {
          "output_type": "stream",
          "text": [
            "      a     b  c\n",
            "0   1.2   342  1\n",
            "1  34.0    51  2\n",
            "2  35.0  4..3  3\n",
            "      a    b  c\n",
            "0   1.2  342  1\n",
            "1  34.0   51  2\n",
            "2  35.0  4.3  3\n"
          ],
          "name": "stdout"
        },
        {
          "output_type": "execute_result",
          "data": {
            "text/plain": [
              "a    float64\n",
              "b    float64\n",
              "c      int64\n",
              "dtype: object"
            ]
          },
          "metadata": {
            "tags": []
          },
          "execution_count": 15
        }
      ]
    },
    {
      "cell_type": "markdown",
      "metadata": {
        "id": "eFozLazwGOZW",
        "colab_type": "text"
      },
      "source": [
        "Use apply and lambda on df column and errors coerce to make - na\n"
      ]
    },
    {
      "cell_type": "code",
      "metadata": {
        "id": "waAX2v9rGQfy",
        "colab_type": "code",
        "colab": {
          "base_uri": "https://localhost:8080/",
          "height": 210
        },
        "outputId": "8a3c1194-adce-4bb5-89c7-3eabc280c2b3"
      },
      "source": [
        "df = pd.DataFrame({'a':['1.2%','3.4%', '-']})\n",
        "print(df)\n",
        "df['a'] = df['a'].apply(lambda x: pd.to_numeric(x.replace('%',''), errors=\"coerce\")/100)\n",
        "df"
      ],
      "execution_count": 18,
      "outputs": [
        {
          "output_type": "stream",
          "text": [
            "      a\n",
            "0  1.2%\n",
            "1  3.4%\n",
            "2     -\n"
          ],
          "name": "stdout"
        },
        {
          "output_type": "execute_result",
          "data": {
            "text/html": [
              "<div>\n",
              "<style scoped>\n",
              "    .dataframe tbody tr th:only-of-type {\n",
              "        vertical-align: middle;\n",
              "    }\n",
              "\n",
              "    .dataframe tbody tr th {\n",
              "        vertical-align: top;\n",
              "    }\n",
              "\n",
              "    .dataframe thead th {\n",
              "        text-align: right;\n",
              "    }\n",
              "</style>\n",
              "<table border=\"1\" class=\"dataframe\">\n",
              "  <thead>\n",
              "    <tr style=\"text-align: right;\">\n",
              "      <th></th>\n",
              "      <th>a</th>\n",
              "    </tr>\n",
              "  </thead>\n",
              "  <tbody>\n",
              "    <tr>\n",
              "      <th>0</th>\n",
              "      <td>0.012</td>\n",
              "    </tr>\n",
              "    <tr>\n",
              "      <th>1</th>\n",
              "      <td>0.034</td>\n",
              "    </tr>\n",
              "    <tr>\n",
              "      <th>2</th>\n",
              "      <td>NaN</td>\n",
              "    </tr>\n",
              "  </tbody>\n",
              "</table>\n",
              "</div>"
            ],
            "text/plain": [
              "       a\n",
              "0  0.012\n",
              "1  0.034\n",
              "2    NaN"
            ]
          },
          "metadata": {
            "tags": []
          },
          "execution_count": 18
        }
      ]
    },
    {
      "cell_type": "markdown",
      "metadata": {
        "id": "NUvELLgWDUiE",
        "colab_type": "text"
      },
      "source": [
        "Use apply and lambda function on df"
      ]
    },
    {
      "cell_type": "code",
      "metadata": {
        "id": "Fxm2iKt3DWSI",
        "colab_type": "code",
        "outputId": "39a2506e-51ae-44a7-df34-137000afc2a9",
        "colab": {
          "base_uri": "https://localhost:8080/",
          "height": 258
        }
      },
      "source": [
        "from datetime import timedelta\n",
        "df = pd.DataFrame({'datetime':['2020-03-20T14:00:00+09:00','2020-03-20T10:00:00+09:00','2020-03-20T18:00:00+09:00',\n",
        "                           '2020-03-20T20:00:00+09:00']})\n",
        "\n",
        "df['datetime'] = pd.to_datetime(df['datetime'])\n",
        "df['date'] = df['datetime'].dt.date\n",
        "df['time'] = df['datetime'].dt.time\n",
        "\n",
        "print(df)\n",
        "\n",
        "# minus 1 day from date if time < 15.00\n",
        "df['date'] = df.apply(lambda row: row['date'] -timedelta(1) if row['time'] <= datetime.time(hour=15,minute=00) else row['date'],axis=1)\n",
        "df"
      ],
      "execution_count": 0,
      "outputs": [
        {
          "output_type": "stream",
          "text": [
            "                   datetime        date      time\n",
            "0 2020-03-20 14:00:00+09:00  2020-03-20  14:00:00\n",
            "1 2020-03-20 10:00:00+09:00  2020-03-20  10:00:00\n",
            "2 2020-03-20 18:00:00+09:00  2020-03-20  18:00:00\n",
            "3 2020-03-20 20:00:00+09:00  2020-03-20  20:00:00\n"
          ],
          "name": "stdout"
        },
        {
          "output_type": "execute_result",
          "data": {
            "text/html": [
              "<div>\n",
              "<style scoped>\n",
              "    .dataframe tbody tr th:only-of-type {\n",
              "        vertical-align: middle;\n",
              "    }\n",
              "\n",
              "    .dataframe tbody tr th {\n",
              "        vertical-align: top;\n",
              "    }\n",
              "\n",
              "    .dataframe thead th {\n",
              "        text-align: right;\n",
              "    }\n",
              "</style>\n",
              "<table border=\"1\" class=\"dataframe\">\n",
              "  <thead>\n",
              "    <tr style=\"text-align: right;\">\n",
              "      <th></th>\n",
              "      <th>datetime</th>\n",
              "      <th>date</th>\n",
              "      <th>time</th>\n",
              "    </tr>\n",
              "  </thead>\n",
              "  <tbody>\n",
              "    <tr>\n",
              "      <th>0</th>\n",
              "      <td>2020-03-20 14:00:00+09:00</td>\n",
              "      <td>2020-03-19</td>\n",
              "      <td>14:00:00</td>\n",
              "    </tr>\n",
              "    <tr>\n",
              "      <th>1</th>\n",
              "      <td>2020-03-20 10:00:00+09:00</td>\n",
              "      <td>2020-03-19</td>\n",
              "      <td>10:00:00</td>\n",
              "    </tr>\n",
              "    <tr>\n",
              "      <th>2</th>\n",
              "      <td>2020-03-20 18:00:00+09:00</td>\n",
              "      <td>2020-03-20</td>\n",
              "      <td>18:00:00</td>\n",
              "    </tr>\n",
              "    <tr>\n",
              "      <th>3</th>\n",
              "      <td>2020-03-20 20:00:00+09:00</td>\n",
              "      <td>2020-03-20</td>\n",
              "      <td>20:00:00</td>\n",
              "    </tr>\n",
              "  </tbody>\n",
              "</table>\n",
              "</div>"
            ],
            "text/plain": [
              "                   datetime        date      time\n",
              "0 2020-03-20 14:00:00+09:00  2020-03-19  14:00:00\n",
              "1 2020-03-20 10:00:00+09:00  2020-03-19  10:00:00\n",
              "2 2020-03-20 18:00:00+09:00  2020-03-20  18:00:00\n",
              "3 2020-03-20 20:00:00+09:00  2020-03-20  20:00:00"
            ]
          },
          "metadata": {
            "tags": []
          },
          "execution_count": 42
        }
      ]
    },
    {
      "cell_type": "markdown",
      "metadata": {
        "id": "5zRG_C0F51xF",
        "colab_type": "text"
      },
      "source": [
        "Replace specific row values in df with dictionary values.\n",
        "\n",
        "Check pandas series empty\n"
      ]
    },
    {
      "cell_type": "code",
      "metadata": {
        "id": "s-0SmFQa55Sn",
        "colab_type": "code",
        "outputId": "8e41fd21-160a-4cb5-ad4a-dfa08a554d49",
        "colab": {
          "base_uri": "https://localhost:8080/",
          "height": 278
        }
      },
      "source": [
        "df = pd.DataFrame({'name':['a','b','c'],'value':[20,-3,-50]})\n",
        "negative_rows = df.loc[df['value'] < 0, \"name\"]\n",
        "print(df)\n",
        "print(type(negative_rows))\n",
        "print(negative_rows)\n",
        "\n",
        "if not negative_rows.empty:\n",
        "    dict_replace = {'b':34,'c':20,'d':3}\n",
        "    for i in negative_rows:\n",
        "        df.loc[df['name'] == i, 'value'] = dict_replace[i]\n",
        "df"
      ],
      "execution_count": 0,
      "outputs": [
        {
          "output_type": "stream",
          "text": [
            "  name  value\n",
            "0    a     20\n",
            "1    b     -3\n",
            "2    c    -50\n",
            "<class 'pandas.core.series.Series'>\n",
            "1    b\n",
            "2    c\n",
            "Name: name, dtype: object\n"
          ],
          "name": "stdout"
        },
        {
          "output_type": "execute_result",
          "data": {
            "text/html": [
              "<div>\n",
              "<style scoped>\n",
              "    .dataframe tbody tr th:only-of-type {\n",
              "        vertical-align: middle;\n",
              "    }\n",
              "\n",
              "    .dataframe tbody tr th {\n",
              "        vertical-align: top;\n",
              "    }\n",
              "\n",
              "    .dataframe thead th {\n",
              "        text-align: right;\n",
              "    }\n",
              "</style>\n",
              "<table border=\"1\" class=\"dataframe\">\n",
              "  <thead>\n",
              "    <tr style=\"text-align: right;\">\n",
              "      <th></th>\n",
              "      <th>name</th>\n",
              "      <th>value</th>\n",
              "    </tr>\n",
              "  </thead>\n",
              "  <tbody>\n",
              "    <tr>\n",
              "      <th>0</th>\n",
              "      <td>a</td>\n",
              "      <td>20</td>\n",
              "    </tr>\n",
              "    <tr>\n",
              "      <th>1</th>\n",
              "      <td>b</td>\n",
              "      <td>34</td>\n",
              "    </tr>\n",
              "    <tr>\n",
              "      <th>2</th>\n",
              "      <td>c</td>\n",
              "      <td>20</td>\n",
              "    </tr>\n",
              "  </tbody>\n",
              "</table>\n",
              "</div>"
            ],
            "text/plain": [
              "  name  value\n",
              "0    a     20\n",
              "1    b     34\n",
              "2    c     20"
            ]
          },
          "metadata": {
            "tags": []
          },
          "execution_count": 7
        }
      ]
    },
    {
      "cell_type": "markdown",
      "metadata": {
        "id": "VCpZbFbq7nJ1",
        "colab_type": "text"
      },
      "source": [
        "Replace row with multiple columns in df "
      ]
    },
    {
      "cell_type": "code",
      "metadata": {
        "id": "cQ2Sh9xB7uiA",
        "colab_type": "code",
        "outputId": "482be498-20e8-41c7-acda-96eb683630f4",
        "colab": {
          "base_uri": "https://localhost:8080/",
          "height": 278
        }
      },
      "source": [
        "df = pd.DataFrame({'name':['a','b','c'],'x':[20,-3,-50],'y':[1,53,90],'z':[0,0,0]})\n",
        "print(df)\n",
        "list_columns = ['x','y']\n",
        "dict_replace = {'x':34,'y':20,'d':3}\n",
        "df.loc[df['name']=='b', list_columns]= [dict_replace[i] for i in dict_replace.keys() if i in list_columns]\n",
        "print(df)\n",
        "\n",
        "df.loc[df['name']=='b', ['z','name']]= [100,'d']\n",
        "df"
      ],
      "execution_count": 0,
      "outputs": [
        {
          "output_type": "stream",
          "text": [
            "  name   x   y  z\n",
            "0    a  20   1  0\n",
            "1    b  -3  53  0\n",
            "2    c -50  90  0\n",
            "  name   x   y  z\n",
            "0    a  20   1  0\n",
            "1    b  34  20  0\n",
            "2    c -50  90  0\n"
          ],
          "name": "stdout"
        },
        {
          "output_type": "execute_result",
          "data": {
            "text/html": [
              "<div>\n",
              "<style scoped>\n",
              "    .dataframe tbody tr th:only-of-type {\n",
              "        vertical-align: middle;\n",
              "    }\n",
              "\n",
              "    .dataframe tbody tr th {\n",
              "        vertical-align: top;\n",
              "    }\n",
              "\n",
              "    .dataframe thead th {\n",
              "        text-align: right;\n",
              "    }\n",
              "</style>\n",
              "<table border=\"1\" class=\"dataframe\">\n",
              "  <thead>\n",
              "    <tr style=\"text-align: right;\">\n",
              "      <th></th>\n",
              "      <th>name</th>\n",
              "      <th>x</th>\n",
              "      <th>y</th>\n",
              "      <th>z</th>\n",
              "    </tr>\n",
              "  </thead>\n",
              "  <tbody>\n",
              "    <tr>\n",
              "      <th>0</th>\n",
              "      <td>a</td>\n",
              "      <td>20</td>\n",
              "      <td>1</td>\n",
              "      <td>0</td>\n",
              "    </tr>\n",
              "    <tr>\n",
              "      <th>1</th>\n",
              "      <td>d</td>\n",
              "      <td>34</td>\n",
              "      <td>20</td>\n",
              "      <td>100</td>\n",
              "    </tr>\n",
              "    <tr>\n",
              "      <th>2</th>\n",
              "      <td>c</td>\n",
              "      <td>-50</td>\n",
              "      <td>90</td>\n",
              "      <td>0</td>\n",
              "    </tr>\n",
              "  </tbody>\n",
              "</table>\n",
              "</div>"
            ],
            "text/plain": [
              "  name   x   y    z\n",
              "0    a  20   1    0\n",
              "1    d  34  20  100\n",
              "2    c -50  90    0"
            ]
          },
          "metadata": {
            "tags": []
          },
          "execution_count": 11
        }
      ]
    },
    {
      "cell_type": "markdown",
      "metadata": {
        "id": "5P6ersEiEP7e",
        "colab_type": "text"
      },
      "source": [
        "**Group by aggregation**"
      ]
    },
    {
      "cell_type": "code",
      "metadata": {
        "id": "V0GbgyG-EVMU",
        "colab_type": "code",
        "outputId": "de445301-51db-4942-d055-6ba5a483afb6",
        "colab": {
          "base_uri": "https://localhost:8080/",
          "height": 547
        }
      },
      "source": [
        "df = pd.DataFrame({'date':['2020-02-18','2020-02-18','2020-03-18','2020-03-18','2020-02-18','2020-02-18','2020-03-18','2020-03-18'], 'city': ['tokyo','tokyo','tokyo','tokyo','seoul','seoul','seoul','seoul'],\n",
        "                    'value':[10,22,11,9,29,39,12,5],'price':[1,2,1,3,9,19,12,5]})\n",
        "\n",
        "print(df)\n",
        "\n",
        "# aggregate to daily\n",
        "df_summary = df.groupby(['date', 'city']).agg(\n",
        "        {'value': ['min'], 'price': ['max']})\n",
        "\n",
        "print(df_summary)\n",
        "\n",
        "# join header names\n",
        "df_summary.columns = ['_'.join(col).strip() for col in df_summary.columns.values]\n",
        "print(df_summary)\n",
        "df_summary = df_summary.reset_index()\n",
        "df_summary"
      ],
      "execution_count": 0,
      "outputs": [
        {
          "output_type": "stream",
          "text": [
            "         date   city  value  price\n",
            "0  2020-02-18  tokyo     10      1\n",
            "1  2020-02-18  tokyo     22      2\n",
            "2  2020-03-18  tokyo     11      1\n",
            "3  2020-03-18  tokyo      9      3\n",
            "4  2020-02-18  seoul     29      9\n",
            "5  2020-02-18  seoul     39     19\n",
            "6  2020-03-18  seoul     12     12\n",
            "7  2020-03-18  seoul      5      5\n",
            "                 value price\n",
            "                   min   max\n",
            "date       city             \n",
            "2020-02-18 seoul    29    19\n",
            "           tokyo    10     2\n",
            "2020-03-18 seoul     5    12\n",
            "           tokyo     9     3\n",
            "                  value_min  price_max\n",
            "date       city                       \n",
            "2020-02-18 seoul         29         19\n",
            "           tokyo         10          2\n",
            "2020-03-18 seoul          5         12\n",
            "           tokyo          9          3\n"
          ],
          "name": "stdout"
        },
        {
          "output_type": "execute_result",
          "data": {
            "text/html": [
              "<div>\n",
              "<style scoped>\n",
              "    .dataframe tbody tr th:only-of-type {\n",
              "        vertical-align: middle;\n",
              "    }\n",
              "\n",
              "    .dataframe tbody tr th {\n",
              "        vertical-align: top;\n",
              "    }\n",
              "\n",
              "    .dataframe thead th {\n",
              "        text-align: right;\n",
              "    }\n",
              "</style>\n",
              "<table border=\"1\" class=\"dataframe\">\n",
              "  <thead>\n",
              "    <tr style=\"text-align: right;\">\n",
              "      <th></th>\n",
              "      <th>date</th>\n",
              "      <th>city</th>\n",
              "      <th>value_min</th>\n",
              "      <th>price_max</th>\n",
              "    </tr>\n",
              "  </thead>\n",
              "  <tbody>\n",
              "    <tr>\n",
              "      <th>0</th>\n",
              "      <td>2020-02-18</td>\n",
              "      <td>seoul</td>\n",
              "      <td>29</td>\n",
              "      <td>19</td>\n",
              "    </tr>\n",
              "    <tr>\n",
              "      <th>1</th>\n",
              "      <td>2020-02-18</td>\n",
              "      <td>tokyo</td>\n",
              "      <td>10</td>\n",
              "      <td>2</td>\n",
              "    </tr>\n",
              "    <tr>\n",
              "      <th>2</th>\n",
              "      <td>2020-03-18</td>\n",
              "      <td>seoul</td>\n",
              "      <td>5</td>\n",
              "      <td>12</td>\n",
              "    </tr>\n",
              "    <tr>\n",
              "      <th>3</th>\n",
              "      <td>2020-03-18</td>\n",
              "      <td>tokyo</td>\n",
              "      <td>9</td>\n",
              "      <td>3</td>\n",
              "    </tr>\n",
              "  </tbody>\n",
              "</table>\n",
              "</div>"
            ],
            "text/plain": [
              "         date   city  value_min  price_max\n",
              "0  2020-02-18  seoul         29         19\n",
              "1  2020-02-18  tokyo         10          2\n",
              "2  2020-03-18  seoul          5         12\n",
              "3  2020-03-18  tokyo          9          3"
            ]
          },
          "metadata": {
            "tags": []
          },
          "execution_count": 56
        }
      ]
    },
    {
      "cell_type": "markdown",
      "metadata": {
        "id": "-XCKcdCb65sH",
        "colab_type": "text"
      },
      "source": [
        "**Datetime**"
      ]
    },
    {
      "cell_type": "code",
      "metadata": {
        "id": "z_wr9Hnii9XD",
        "colab_type": "code",
        "colab": {}
      },
      "source": [
        "import datetime"
      ],
      "execution_count": 0,
      "outputs": []
    },
    {
      "cell_type": "markdown",
      "metadata": {
        "id": "d_rD8uEB4PTa",
        "colab_type": "text"
      },
      "source": [
        "Datetime specify format"
      ]
    },
    {
      "cell_type": "code",
      "metadata": {
        "id": "ce64F6iY4Te1",
        "colab_type": "code",
        "outputId": "1c8e66ff-56c8-4a20-8a4c-4d3dd5e8216d",
        "colab": {
          "base_uri": "https://localhost:8080/",
          "height": 85
        }
      },
      "source": [
        "print(pd.to_datetime('01-13-2019',format ='%m-%d-%Y'))\n",
        "print(pd.to_datetime('Feb-13-2019',format ='%b-%d-%Y'))\n",
        "print(pd.to_datetime('Jan13, 2019',format ='%b%d, %Y'))\n",
        "pd.to_datetime('Nov2020',format=\"%b%Y\") "
      ],
      "execution_count": 0,
      "outputs": [
        {
          "output_type": "stream",
          "text": [
            "2019-01-13 00:00:00\n",
            "2019-02-13 00:00:00\n",
            "2019-01-13 00:00:00\n"
          ],
          "name": "stdout"
        },
        {
          "output_type": "execute_result",
          "data": {
            "text/plain": [
              "Timestamp('2020-11-01 00:00:00')"
            ]
          },
          "metadata": {
            "tags": []
          },
          "execution_count": 8
        }
      ]
    },
    {
      "cell_type": "markdown",
      "metadata": {
        "id": "LWNXKmz28zZx",
        "colab_type": "text"
      },
      "source": [
        "Datetime to date and time"
      ]
    },
    {
      "cell_type": "code",
      "metadata": {
        "id": "j7dH2Ldg7CBO",
        "colab_type": "code",
        "outputId": "fbd15845-dd25-4ae2-a41c-6562da728df7",
        "colab": {
          "base_uri": "https://localhost:8080/",
          "height": 51
        }
      },
      "source": [
        "dt = pd.to_datetime('2020-03-20T14:00:00+09:00')\n",
        "date = dt.date()\n",
        "time = dt.time()\n",
        "\n",
        "print(date)\n",
        "print(time)\n"
      ],
      "execution_count": 0,
      "outputs": [
        {
          "output_type": "stream",
          "text": [
            "2020-03-20\n",
            "14:00:00\n"
          ],
          "name": "stdout"
        }
      ]
    },
    {
      "cell_type": "markdown",
      "metadata": {
        "id": "N3pmlmde5f4v",
        "colab_type": "text"
      },
      "source": [
        "Get last day of month"
      ]
    },
    {
      "cell_type": "code",
      "metadata": {
        "id": "ar-hxasK5QX8",
        "colab_type": "code",
        "outputId": "9d2114da-a048-492a-fc2b-80d29f2e7774",
        "colab": {
          "base_uri": "https://localhost:8080/",
          "height": 34
        }
      },
      "source": [
        "pd.to_datetime('Nov2020',format=\"%b%Y\") + pd.offsets.MonthEnd(1)"
      ],
      "execution_count": 0,
      "outputs": [
        {
          "output_type": "execute_result",
          "data": {
            "text/plain": [
              "Timestamp('2020-11-30 00:00:00')"
            ]
          },
          "metadata": {
            "tags": []
          },
          "execution_count": 9
        }
      ]
    },
    {
      "cell_type": "markdown",
      "metadata": {
        "id": "NJm6GzgT6_uK",
        "colab_type": "text"
      },
      "source": [
        "Use apply and format to change format"
      ]
    },
    {
      "cell_type": "code",
      "metadata": {
        "id": "3wI9O8Sv7BoE",
        "colab_type": "code",
        "outputId": "429b4114-525b-4c23-d7c6-3c446151f09d",
        "colab": {
          "base_uri": "https://localhost:8080/",
          "height": 85
        }
      },
      "source": [
        "#use ISO format YYYY-MM-DD:\n",
        "df = pd.DataFrame({'date':['2000-01-13','2000-02-14','2000-05-13']})\n",
        "pd.to_datetime(df['date']).apply(\"{:%d-%m-%Y}\".format)"
      ],
      "execution_count": 0,
      "outputs": [
        {
          "output_type": "execute_result",
          "data": {
            "text/plain": [
              "0    13-01-2000\n",
              "1    14-02-2000\n",
              "2    13-05-2000\n",
              "Name: date, dtype: object"
            ]
          },
          "metadata": {
            "tags": []
          },
          "execution_count": 12
        }
      ]
    },
    {
      "cell_type": "markdown",
      "metadata": {
        "id": "f6zFCh-95qWy",
        "colab_type": "text"
      },
      "source": [
        "Convert quarters to end of month date"
      ]
    },
    {
      "cell_type": "code",
      "metadata": {
        "id": "9SjLJ4DO5nYt",
        "colab_type": "code",
        "outputId": "112ad619-d763-4433-c8ff-c95f017fba09",
        "colab": {
          "base_uri": "https://localhost:8080/",
          "height": 170
        }
      },
      "source": [
        "df = pd.DataFrame({'year':[2010,2010,2010,2010,2011,2011,2011,2011], 'quarter':[1,2,3,4,1,2,3,4]})\n",
        "df[\"date\"] = pd.to_datetime(df.year.astype(str) + \"-\" + (df.quarter*3).apply(\"{:02d}\".format)) +pd.tseries.offsets.MonthEnd(1)\n",
        "df[\"date\"]"
      ],
      "execution_count": 0,
      "outputs": [
        {
          "output_type": "execute_result",
          "data": {
            "text/plain": [
              "0   2010-03-31\n",
              "1   2010-06-30\n",
              "2   2010-09-30\n",
              "3   2010-12-31\n",
              "4   2011-03-31\n",
              "5   2011-06-30\n",
              "6   2011-09-30\n",
              "7   2011-12-31\n",
              "Name: date, dtype: datetime64[ns]"
            ]
          },
          "metadata": {
            "tags": []
          },
          "execution_count": 10
        }
      ]
    },
    {
      "cell_type": "markdown",
      "metadata": {
        "id": "tST-zi6n83WL",
        "colab_type": "text"
      },
      "source": [
        "compare time"
      ]
    },
    {
      "cell_type": "code",
      "metadata": {
        "id": "mO7K9HD17NQ7",
        "colab_type": "code",
        "outputId": "fc4f0d0c-4475-4bf9-c914-f4a5d971c240",
        "colab": {
          "base_uri": "https://localhost:8080/",
          "height": 51
        }
      },
      "source": [
        "print(datetime.time(hour=13, minute=00))\n",
        "time > datetime.time(hour=13, minute=00)"
      ],
      "execution_count": 0,
      "outputs": [
        {
          "output_type": "stream",
          "text": [
            "13:00:00\n"
          ],
          "name": "stdout"
        },
        {
          "output_type": "execute_result",
          "data": {
            "text/plain": [
              "True"
            ]
          },
          "metadata": {
            "tags": []
          },
          "execution_count": 10
        }
      ]
    },
    {
      "cell_type": "markdown",
      "metadata": {
        "id": "nmM6xj_88s4z",
        "colab_type": "text"
      },
      "source": [
        "extract time from +08:00 string"
      ]
    },
    {
      "cell_type": "code",
      "metadata": {
        "id": "NizoPL4C7vNs",
        "colab_type": "code",
        "outputId": "fcc5a963-8953-4f62-d8fb-5b1ee0c0054d",
        "colab": {
          "base_uri": "https://localhost:8080/",
          "height": 51
        }
      },
      "source": [
        "# extract operator and time from +08:00\n",
        "d=\"+12:00\"\n",
        "operator = re.search(\"([+-])(\\d{2}:\\d{2})\",d).group(1)\n",
        "print(operator)\n",
        "\n",
        "time = int(float(re.search(\"([+-])(\\d{2}:\\d{2})\",d).group(2).lstrip(\"0\").replace(\":\",\".\")))\n",
        "print(time)"
      ],
      "execution_count": 0,
      "outputs": [
        {
          "output_type": "stream",
          "text": [
            "+\n",
            "12\n"
          ],
          "name": "stdout"
        }
      ]
    },
    {
      "cell_type": "markdown",
      "metadata": {
        "id": "qsiBBQB-8oAh",
        "colab_type": "text"
      },
      "source": [
        "calculate time deltas/difference "
      ]
    },
    {
      "cell_type": "code",
      "metadata": {
        "id": "XOvO6NlD8Ezi",
        "colab_type": "code",
        "outputId": "e8b08ef7-00c8-49db-911b-6df03c27c6a3",
        "colab": {
          "base_uri": "https://localhost:8080/",
          "height": 51
        }
      },
      "source": [
        "from datetime import timedelta\n",
        "print(pd.to_datetime('2020-03-23T08:00:00+00:00') -timedelta(1))\n",
        "pd.to_datetime('2020-03-23T08:00:00+00:00') -timedelta(hours=2)"
      ],
      "execution_count": 0,
      "outputs": [
        {
          "output_type": "stream",
          "text": [
            "2020-03-22 08:00:00+00:00\n"
          ],
          "name": "stdout"
        },
        {
          "output_type": "execute_result",
          "data": {
            "text/plain": [
              "Timestamp('2020-03-23 06:00:00+0000', tz='UTC')"
            ]
          },
          "metadata": {
            "tags": []
          },
          "execution_count": 16
        }
      ]
    },
    {
      "cell_type": "markdown",
      "metadata": {
        "id": "0qS306B89FBa",
        "colab_type": "text"
      },
      "source": [
        "check is today's date equivalent"
      ]
    },
    {
      "cell_type": "code",
      "metadata": {
        "id": "18-mr6l08XTy",
        "colab_type": "code",
        "outputId": "c63262b2-ccd7-4188-8768-bd8bb790ede5",
        "colab": {
          "base_uri": "https://localhost:8080/",
          "height": 51
        }
      },
      "source": [
        "df = pd.DataFrame({'date':['2020-03-18','2020-03-19','2020-03-20',\n",
        "                           '2020-02-19']})\n",
        "\n",
        "print((pd.DatetimeIndex(df['date']).day))\n",
        "print(pd.datetime.now().day)\n",
        "\n",
        "# all means if there is one True, it will be True\n",
        "\n",
        "if (pd.DatetimeIndex(df['date']).day != pd.datetime.now().day).all():\n",
        "    print(\"not current day data\")\n",
        "if (pd.DatetimeIndex(df['date']).month != pd.datetime.now().month).all():\n",
        "    print(\"not current month data\")\n",
        "if (pd.DatetimeIndex(df['date']).year != pd.datetime.now().year).all():\n",
        "    print(\"not current year data\")"
      ],
      "execution_count": 0,
      "outputs": [
        {
          "output_type": "stream",
          "text": [
            "Int64Index([18, 19, 20, 19], dtype='int64', name='date')\n",
            "20\n"
          ],
          "name": "stdout"
        }
      ]
    },
    {
      "cell_type": "markdown",
      "metadata": {
        "id": "L6h9JsoJ76h2",
        "colab_type": "text"
      },
      "source": [
        "last update utc now"
      ]
    },
    {
      "cell_type": "code",
      "metadata": {
        "id": "6vE4rMq08eP6",
        "colab_type": "code",
        "outputId": "528b46a7-78d7-451d-8f36-827a6176ce83",
        "colab": {
          "base_uri": "https://localhost:8080/",
          "height": 34
        }
      },
      "source": [
        "from datetime import datetime\n",
        "datetime.utcnow()"
      ],
      "execution_count": 0,
      "outputs": [
        {
          "output_type": "execute_result",
          "data": {
            "text/plain": [
              "datetime.datetime(2020, 4, 8, 8, 37, 49, 528862)"
            ]
          },
          "metadata": {
            "tags": []
          },
          "execution_count": 14
        }
      ]
    },
    {
      "cell_type": "markdown",
      "metadata": {
        "id": "3r2Iodl65e9S",
        "colab_type": "text"
      },
      "source": [
        "Use dateutil.parser to parse string to date"
      ]
    },
    {
      "cell_type": "code",
      "metadata": {
        "id": "yHS80J5i78U9",
        "colab_type": "code",
        "outputId": "c1b08b25-37c9-4db6-f7ce-2907eb8b0ea6",
        "colab": {
          "base_uri": "https://localhost:8080/",
          "height": 68
        }
      },
      "source": [
        "import re\n",
        "from dateutil.parser import parse \n",
        "\n",
        "country, city = \"Australia\", \"sydney\"\n",
        "text = \"Australia sydney Apr. 19\"\n",
        "match_date = re.search(\n",
        "            r\"^\" + country + r\"\\s+\" + city + r\"\\s+(\\w{3}\\.\\s*\\d{1,2})\",\n",
        "            text,\n",
        "        ).group(1)\n",
        "  \n",
        "print(type(match_date))\n",
        "print((match_date))\n",
        "date = parse(match_date).date()\n",
        "\n",
        "print(date)"
      ],
      "execution_count": 0,
      "outputs": [
        {
          "output_type": "stream",
          "text": [
            "<class 'str'>\n",
            "Apr. 19\n",
            "2020-04-19\n"
          ],
          "name": "stdout"
        }
      ]
    },
    {
      "cell_type": "code",
      "metadata": {
        "id": "CoAE7ohO64iK",
        "colab_type": "code",
        "colab": {}
      },
      "source": [
        ""
      ],
      "execution_count": 0,
      "outputs": []
    }
  ]
}